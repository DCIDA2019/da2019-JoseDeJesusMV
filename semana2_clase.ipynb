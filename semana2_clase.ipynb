{
 "cells": [
  {
   "cell_type": "code",
   "execution_count": 59,
   "metadata": {},
   "outputs": [],
   "source": [
    "import numpy as np\n",
    "import matplotlib.pyplot as plt\n",
    "\n",
    "\n",
    "def f(x):\n",
    "    \n",
    "    if x%2==0:\n",
    "        return np.log(x)\n",
    "    else:\n",
    "        return x*x"
   ]
  },
  {
   "cell_type": "code",
   "execution_count": 60,
   "metadata": {},
   "outputs": [
    {
     "data": {
      "text/plain": [
       "array([ 1,  4,  7, 10, 13, 16, 19, 22, 25, 28, 31, 34, 37, 40, 43, 46, 49])"
      ]
     },
     "execution_count": 60,
     "metadata": {},
     "output_type": "execute_result"
    }
   ],
   "source": [
    "xx=np.arange(1,50,3)\n",
    "xx"
   ]
  },
  {
   "cell_type": "code",
   "execution_count": 62,
   "metadata": {},
   "outputs": [],
   "source": [
    "def f2(x):\n",
    "    y=[]\n",
    "    for i in range(len(x)):\n",
    "        if x[i]%2==0:\n",
    "            y.append(np.log(x[i]))\n",
    "        else:\n",
    "            y.append(x[i]*x[i])\n",
    "            \n",
    "    return x,y"
   ]
  },
  {
   "cell_type": "code",
   "execution_count": 63,
   "metadata": {},
   "outputs": [
    {
     "data": {
      "text/plain": [
       "(array([ 1,  4,  7, 10, 13, 16, 19, 22, 25, 28, 31, 34, 37, 40, 43, 46, 49]),\n",
       " [1,\n",
       "  1.3862943611198906,\n",
       "  49,\n",
       "  2.302585092994046,\n",
       "  169,\n",
       "  2.772588722239781,\n",
       "  361,\n",
       "  3.091042453358316,\n",
       "  625,\n",
       "  3.332204510175204,\n",
       "  961,\n",
       "  3.5263605246161616,\n",
       "  1369,\n",
       "  3.6888794541139363,\n",
       "  1849,\n",
       "  3.828641396489095,\n",
       "  2401])"
      ]
     },
     "execution_count": 63,
     "metadata": {},
     "output_type": "execute_result"
    }
   ],
   "source": [
    "f2(xx)"
   ]
  },
  {
   "cell_type": "code",
   "execution_count": 64,
   "metadata": {},
   "outputs": [],
   "source": [
    "f3=np.vectorize(f)"
   ]
  },
  {
   "cell_type": "code",
   "execution_count": 65,
   "metadata": {},
   "outputs": [
    {
     "data": {
      "text/plain": [
       "array([   1,    1,   49,    2,  169,    2,  361,    3,  625,    3,  961,\n",
       "          3, 1369,    3, 1849,    3, 2401])"
      ]
     },
     "execution_count": 65,
     "metadata": {},
     "output_type": "execute_result"
    }
   ],
   "source": [
    "f3(xx)"
   ]
  },
  {
   "cell_type": "code",
   "execution_count": 66,
   "metadata": {},
   "outputs": [],
   "source": [
    "def g(x):\n",
    "    if x >0:\n",
    "        return np.cos(x)\n",
    "    else: \n",
    "        return np.sin(x)\n",
    "    \n",
    "g1=np.vectorize(g)"
   ]
  },
  {
   "cell_type": "code",
   "execution_count": 87,
   "metadata": {},
   "outputs": [
    {
     "data": {
      "text/plain": [
       "array([ 2.44929360e-16,  2.53654584e-01,  4.90717552e-01,  6.95682551e-01,\n",
       "        8.55142763e-01,  9.58667853e-01,  9.99486216e-01,  9.74927912e-01,\n",
       "        8.86599306e-01,  7.40277997e-01,  5.45534901e-01,  3.15108218e-01,\n",
       "        6.40702200e-02, -1.91158629e-01, -4.33883739e-01, -6.48228395e-01,\n",
       "       -8.20172255e-01, -9.38468422e-01, -9.95379113e-01, -9.87181783e-01,\n",
       "       -9.14412623e-01, -7.81831482e-01, -5.98110530e-01, -3.75267005e-01,\n",
       "       -1.27877162e-01,  9.91790014e-01,  9.26916757e-01,  8.01413622e-01,\n",
       "        6.23489802e-01,  4.04783343e-01,  1.59599895e-01, -9.60230259e-02,\n",
       "       -3.45365054e-01, -5.72116660e-01, -7.61445958e-01, -9.00968868e-01,\n",
       "       -9.81559157e-01, -9.97945393e-01, -9.49055747e-01, -8.38088105e-01,\n",
       "       -6.72300890e-01, -4.62538290e-01, -2.22520934e-01,  3.20515776e-02,\n",
       "        2.84527587e-01,  5.18392568e-01,  7.18349350e-01,  8.71318704e-01,\n",
       "        9.67294863e-01,  1.00000000e+00])"
      ]
     },
     "execution_count": 87,
     "metadata": {},
     "output_type": "execute_result"
    }
   ],
   "source": [
    "x2=np.linspace(-2*np.pi,2*np.pi,50)\n",
    "g1(x2)"
   ]
  },
  {
   "cell_type": "code",
   "execution_count": 88,
   "metadata": {},
   "outputs": [
    {
     "data": {
      "text/plain": [
       "[<matplotlib.lines.Line2D at 0x7c1b770>]"
      ]
     },
     "execution_count": 88,
     "metadata": {},
     "output_type": "execute_result"
    },
    {
     "data": {
      "image/png": "[encoded data removed]",
      "text/plain": [
       "<Figure size 432x288 with 1 Axes>"
      ]
     },
     "metadata": {
      "needs_background": "light"
     },
     "output_type": "display_data"
    }
   ],
   "source": [
    "plt.plot(x2,g1(x2))"
   ]
  },
  {
   "cell_type": "code",
   "execution_count": 89,
   "metadata": {},
   "outputs": [
    {
     "name": "stdout",
     "output_type": "stream",
     "text": [
      "113 µs ± 4.54 µs per loop (mean ± std. dev. of 7 runs, 10000 loops each)\n",
      "116 µs ± 2.93 µs per loop (mean ± std. dev. of 7 runs, 10000 loops each)\n"
     ]
    }
   ],
   "source": [
    "y=np.zeros_like(x2)\n",
    "w=x2>0\n",
    "%timeit y[w]=g1(x2[w])\n",
    "%timeit y[~w]=g1(x2[~w])"
   ]
  },
  {
   "cell_type": "code",
   "execution_count": 90,
   "metadata": {},
   "outputs": [
    {
     "data": {
      "text/plain": [
       "array([ 2.44929360e-16,  2.53654584e-01,  4.90717552e-01,  6.95682551e-01,\n",
       "        8.55142763e-01,  9.58667853e-01,  9.99486216e-01,  9.74927912e-01,\n",
       "        8.86599306e-01,  7.40277997e-01,  5.45534901e-01,  3.15108218e-01,\n",
       "        6.40702200e-02, -1.91158629e-01, -4.33883739e-01, -6.48228395e-01,\n",
       "       -8.20172255e-01, -9.38468422e-01, -9.95379113e-01, -9.87181783e-01,\n",
       "       -9.14412623e-01, -7.81831482e-01, -5.98110530e-01, -3.75267005e-01,\n",
       "       -1.27877162e-01,  9.91790014e-01,  9.26916757e-01,  8.01413622e-01,\n",
       "        6.23489802e-01,  4.04783343e-01,  1.59599895e-01, -9.60230259e-02,\n",
       "       -3.45365054e-01, -5.72116660e-01, -7.61445958e-01, -9.00968868e-01,\n",
       "       -9.81559157e-01, -9.97945393e-01, -9.49055747e-01, -8.38088105e-01,\n",
       "       -6.72300890e-01, -4.62538290e-01, -2.22520934e-01,  3.20515776e-02,\n",
       "        2.84527587e-01,  5.18392568e-01,  7.18349350e-01,  8.71318704e-01,\n",
       "        9.67294863e-01,  1.00000000e+00])"
      ]
     },
     "execution_count": 90,
     "metadata": {},
     "output_type": "execute_result"
    }
   ],
   "source": [
    "y"
   ]
  },
  {
   "cell_type": "code",
   "execution_count": 91,
   "metadata": {},
   "outputs": [
    {
     "data": {
      "text/plain": [
       "array([-6.28318531, -6.02672876, -5.77027222, -5.51381568, -5.25735913,\n",
       "       -5.00090259, -4.74444605, -4.48798951, -4.23153296, -3.97507642,\n",
       "       -3.71861988, -3.46216333, -3.20570679, -2.94925025, -2.6927937 ,\n",
       "       -2.43633716, -2.17988062, -1.92342407, -1.66696753, -1.41051099,\n",
       "       -1.15405444, -0.8975979 , -0.64114136, -0.38468481, -0.12822827,\n",
       "        0.12822827,  0.38468481,  0.64114136,  0.8975979 ,  1.15405444,\n",
       "        1.41051099,  1.66696753,  1.92342407,  2.17988062,  2.43633716,\n",
       "        2.6927937 ,  2.94925025,  3.20570679,  3.46216333,  3.71861988,\n",
       "        3.97507642,  4.23153296,  4.48798951,  4.74444605,  5.00090259,\n",
       "        5.25735913,  5.51381568,  5.77027222,  6.02672876,  6.28318531])"
      ]
     },
     "execution_count": 91,
     "metadata": {},
     "output_type": "execute_result"
    }
   ],
   "source": [
    "x2"
   ]
  },
  {
   "cell_type": "code",
   "execution_count": 92,
   "metadata": {},
   "outputs": [
    {
     "data": {
      "text/plain": [
       "array([ 2.44929360e-16,  2.53654584e-01,  4.90717552e-01,  6.95682551e-01,\n",
       "        8.55142763e-01,  9.58667853e-01,  9.99486216e-01,  9.74927912e-01,\n",
       "        8.86599306e-01,  7.40277997e-01,  5.45534901e-01,  3.15108218e-01,\n",
       "        6.40702200e-02, -1.91158629e-01, -4.33883739e-01, -6.48228395e-01,\n",
       "       -8.20172255e-01, -9.38468422e-01, -9.95379113e-01, -9.87181783e-01,\n",
       "       -9.14412623e-01, -7.81831482e-01, -5.98110530e-01, -3.75267005e-01,\n",
       "       -1.27877162e-01,  9.91790014e-01,  9.26916757e-01,  8.01413622e-01,\n",
       "        6.23489802e-01,  4.04783343e-01,  1.59599895e-01, -9.60230259e-02,\n",
       "       -3.45365054e-01, -5.72116660e-01, -7.61445958e-01, -9.00968868e-01,\n",
       "       -9.81559157e-01, -9.97945393e-01, -9.49055747e-01, -8.38088105e-01,\n",
       "       -6.72300890e-01, -4.62538290e-01, -2.22520934e-01,  3.20515776e-02,\n",
       "        2.84527587e-01,  5.18392568e-01,  7.18349350e-01,  8.71318704e-01,\n",
       "        9.67294863e-01,  1.00000000e+00])"
      ]
     },
     "execution_count": 92,
     "metadata": {},
     "output_type": "execute_result"
    }
   ],
   "source": [
    "y2=np.asarray([g(x) for x in x2])  \n",
    "y2"
   ]
  },
  {
   "cell_type": "code",
   "execution_count": 129,
   "metadata": {},
   "outputs": [],
   "source": [
    "def g2(x):\n",
    "    y=np.zeros_like(x)\n",
    "    for i in range (len(x)):\n",
    "        if x[i] >0:\n",
    "            y[i]=np.cos(x[i])\n",
    "        else: \n",
    "            y[i]=np.sin(x[i])\n",
    "    return y\n",
    "    \n"
   ]
  },
  {
   "cell_type": "code",
   "execution_count": 130,
   "metadata": {},
   "outputs": [
    {
     "name": "stdout",
     "output_type": "stream",
     "text": [
      "235 µs ± 13.6 µs per loop (mean ± std. dev. of 7 runs, 1000 loops each)\n"
     ]
    }
   ],
   "source": [
    "%timeit g2(x2)"
   ]
  },
  {
   "cell_type": "code",
   "execution_count": 96,
   "metadata": {},
   "outputs": [
    {
     "data": {
      "text/plain": [
       "(50,)"
      ]
     },
     "execution_count": 96,
     "metadata": {},
     "output_type": "execute_result"
    }
   ],
   "source": [
    "x2.shape"
   ]
  },
  {
   "cell_type": "code",
   "execution_count": 97,
   "metadata": {},
   "outputs": [],
   "source": [
    "class estudiante():\n",
    "    pass"
   ]
  },
  {
   "cell_type": "code",
   "execution_count": 166,
   "metadata": {},
   "outputs": [],
   "source": [
    "estudiantes=estudiante()"
   ]
  },
  {
   "cell_type": "code",
   "execution_count": 172,
   "metadata": {},
   "outputs": [],
   "source": [
    "e1=estudiante()\n",
    "e2=estudiante()"
   ]
  },
  {
   "cell_type": "code",
   "execution_count": 173,
   "metadata": {},
   "outputs": [],
   "source": [
    "e1.nombre='alma','antonio'\n",
    "e1.edad,e2.edad=36,22\n",
    "e1.auto,e2.auto=False,False"
   ]
  },
  {
   "cell_type": "code",
   "execution_count": 174,
   "metadata": {},
   "outputs": [],
   "source": [
    "estudiantes.nombre='alma','antonio'\n"
   ]
  },
  {
   "cell_type": "code",
   "execution_count": 175,
   "metadata": {},
   "outputs": [],
   "source": [
    "estudiantes.nombre=[1]"
   ]
  },
  {
   "cell_type": "code",
   "execution_count": 176,
   "metadata": {},
   "outputs": [
    {
     "ename": "TypeError",
     "evalue": "'estudiante' object is not subscriptable",
     "output_type": "error",
     "traceback": [
      "\u001b[1;31m---------------------------------------------------------------------------\u001b[0m",
      "\u001b[1;31mTypeError\u001b[0m                                 Traceback (most recent call last)",
      "\u001b[1;32m<ipython-input-176-1d4f66127992>\u001b[0m in \u001b[0;36m<module>\u001b[1;34m\u001b[0m\n\u001b[1;32m----> 1\u001b[1;33m \u001b[0mestudiantes\u001b[0m\u001b[1;33m[\u001b[0m\u001b[1;36m1\u001b[0m\u001b[1;33m]\u001b[0m\u001b[1;33m.\u001b[0m\u001b[0mnombre\u001b[0m\u001b[1;33m\u001b[0m\u001b[1;33m\u001b[0m\u001b[0m\n\u001b[0m",
      "\u001b[1;31mTypeError\u001b[0m: 'estudiante' object is not subscriptable"
     ]
    }
   ],
   "source": [
    "estudiantes[1].nombre"
   ]
  },
  {
   "cell_type": "code",
   "execution_count": 177,
   "metadata": {},
   "outputs": [
    {
     "data": {
      "text/plain": [
       "('alma', 'antonio')"
      ]
     },
     "execution_count": 177,
     "metadata": {},
     "output_type": "execute_result"
    }
   ],
   "source": [
    "e1.nombre"
   ]
  },
  {
   "cell_type": "code",
   "execution_count": 209,
   "metadata": {},
   "outputs": [],
   "source": [
    "class funciones:\n",
    "    '''se definen mis funciones basicas'''\n",
    "    def __init__(self,A,saludo='hola'):\n",
    "        self.A=A\n",
    "        self.saludo=saludo\n",
    "        \n",
    "    def g(self,x):\n",
    "        return np.cos(x), np.sin(x)\n",
    "    \n",
    "    def f2(self,x):\n",
    "        if x%2==0:\n",
    "            return np.log(x)\n",
    "        else:\n",
    "            return x*x\n",
    "        \n",
    "    def f(self):\n",
    "        return self.saludo"
   ]
  },
  {
   "cell_type": "code",
   "execution_count": 211,
   "metadata": {},
   "outputs": [],
   "source": [
    "funciones?"
   ]
  },
  {
   "cell_type": "code",
   "execution_count": 201,
   "metadata": {},
   "outputs": [],
   "source": [
    "x=funciones(3,'Hello')"
   ]
  },
  {
   "cell_type": "code",
   "execution_count": 202,
   "metadata": {},
   "outputs": [
    {
     "data": {
      "text/plain": [
       "'Hello'"
      ]
     },
     "execution_count": 202,
     "metadata": {},
     "output_type": "execute_result"
    }
   ],
   "source": [
    "x.f()"
   ]
  },
  {
   "cell_type": "code",
   "execution_count": 194,
   "metadata": {},
   "outputs": [
    {
     "data": {
      "text/plain": [
       "(-1.0, 1.2246467991473532e-16)"
      ]
     },
     "execution_count": 194,
     "metadata": {},
     "output_type": "execute_result"
    }
   ],
   "source": [
    "x.g(np.pi)"
   ]
  },
  {
   "cell_type": "code",
   "execution_count": 196,
   "metadata": {},
   "outputs": [],
   "source": [
    "b=x.g(x2)"
   ]
  },
  {
   "cell_type": "code",
   "execution_count": 197,
   "metadata": {},
   "outputs": [
    {
     "data": {
      "text/plain": [
       "(array([ 1.        ,  0.96729486,  0.8713187 ,  0.71834935,  0.51839257,\n",
       "         0.28452759,  0.03205158, -0.22252093, -0.46253829, -0.67230089,\n",
       "        -0.8380881 , -0.94905575, -0.99794539, -0.98155916, -0.90096887,\n",
       "        -0.76144596, -0.57211666, -0.34536505, -0.09602303,  0.1595999 ,\n",
       "         0.40478334,  0.6234898 ,  0.80141362,  0.92691676,  0.99179001,\n",
       "         0.99179001,  0.92691676,  0.80141362,  0.6234898 ,  0.40478334,\n",
       "         0.1595999 , -0.09602303, -0.34536505, -0.57211666, -0.76144596,\n",
       "        -0.90096887, -0.98155916, -0.99794539, -0.94905575, -0.8380881 ,\n",
       "        -0.67230089, -0.46253829, -0.22252093,  0.03205158,  0.28452759,\n",
       "         0.51839257,  0.71834935,  0.8713187 ,  0.96729486,  1.        ]),\n",
       " array([ 2.44929360e-16,  2.53654584e-01,  4.90717552e-01,  6.95682551e-01,\n",
       "         8.55142763e-01,  9.58667853e-01,  9.99486216e-01,  9.74927912e-01,\n",
       "         8.86599306e-01,  7.40277997e-01,  5.45534901e-01,  3.15108218e-01,\n",
       "         6.40702200e-02, -1.91158629e-01, -4.33883739e-01, -6.48228395e-01,\n",
       "        -8.20172255e-01, -9.38468422e-01, -9.95379113e-01, -9.87181783e-01,\n",
       "        -9.14412623e-01, -7.81831482e-01, -5.98110530e-01, -3.75267005e-01,\n",
       "        -1.27877162e-01,  1.27877162e-01,  3.75267005e-01,  5.98110530e-01,\n",
       "         7.81831482e-01,  9.14412623e-01,  9.87181783e-01,  9.95379113e-01,\n",
       "         9.38468422e-01,  8.20172255e-01,  6.48228395e-01,  4.33883739e-01,\n",
       "         1.91158629e-01, -6.40702200e-02, -3.15108218e-01, -5.45534901e-01,\n",
       "        -7.40277997e-01, -8.86599306e-01, -9.74927912e-01, -9.99486216e-01,\n",
       "        -9.58667853e-01, -8.55142763e-01, -6.95682551e-01, -4.90717552e-01,\n",
       "        -2.53654584e-01, -2.44929360e-16]))"
      ]
     },
     "execution_count": 197,
     "metadata": {},
     "output_type": "execute_result"
    }
   ],
   "source": [
    "b"
   ]
  },
  {
   "cell_type": "code",
   "execution_count": 183,
   "metadata": {},
   "outputs": [],
   "source": [
    "f22=np.vectorize(x.f2)"
   ]
  },
  {
   "cell_type": "code",
   "execution_count": 184,
   "metadata": {},
   "outputs": [],
   "source": [
    "a=f22(x2)"
   ]
  },
  {
   "cell_type": "code",
   "execution_count": 185,
   "metadata": {},
   "outputs": [
    {
     "data": {
      "text/plain": [
       "array([3.94784176e+01, 3.63214596e+01, 3.32960415e+01, 3.04021633e+01,\n",
       "       2.76398251e+01, 2.50090267e+01, 2.25097683e+01, 2.01420498e+01,\n",
       "       1.79058712e+01, 1.58012325e+01, 1.38281338e+01, 1.19865749e+01,\n",
       "       1.02765560e+01, 8.69807701e+00, 7.25113793e+00, 5.93573876e+00,\n",
       "       4.75187950e+00, 3.69956017e+00, 2.77878075e+00, 1.98954125e+00,\n",
       "       1.33184166e+00, 8.05681992e-01, 4.11062241e-01, 1.47982407e-01,\n",
       "       1.64424896e-02, 1.64424896e-02, 1.47982407e-01, 4.11062241e-01,\n",
       "       8.05681992e-01, 1.33184166e+00, 1.98954125e+00, 2.77878075e+00,\n",
       "       3.69956017e+00, 4.75187950e+00, 5.93573876e+00, 7.25113793e+00,\n",
       "       8.69807701e+00, 1.02765560e+01, 1.19865749e+01, 1.38281338e+01,\n",
       "       1.58012325e+01, 1.79058712e+01, 2.01420498e+01, 2.25097683e+01,\n",
       "       2.50090267e+01, 2.76398251e+01, 3.04021633e+01, 3.32960415e+01,\n",
       "       3.63214596e+01, 3.94784176e+01])"
      ]
     },
     "execution_count": 185,
     "metadata": {},
     "output_type": "execute_result"
    }
   ],
   "source": [
    "a"
   ]
  },
  {
   "cell_type": "code",
   "execution_count": 213,
   "metadata": {},
   "outputs": [
    {
     "data": {
      "text/plain": [
       "(array([ 1.        ,  0.96729486,  0.8713187 ,  0.71834935,  0.51839257,\n",
       "         0.28452759,  0.03205158, -0.22252093, -0.46253829, -0.67230089,\n",
       "        -0.8380881 , -0.94905575, -0.99794539, -0.98155916, -0.90096887,\n",
       "        -0.76144596, -0.57211666, -0.34536505, -0.09602303,  0.1595999 ,\n",
       "         0.40478334,  0.6234898 ,  0.80141362,  0.92691676,  0.99179001,\n",
       "         0.99179001,  0.92691676,  0.80141362,  0.6234898 ,  0.40478334,\n",
       "         0.1595999 , -0.09602303, -0.34536505, -0.57211666, -0.76144596,\n",
       "        -0.90096887, -0.98155916, -0.99794539, -0.94905575, -0.8380881 ,\n",
       "        -0.67230089, -0.46253829, -0.22252093,  0.03205158,  0.28452759,\n",
       "         0.51839257,  0.71834935,  0.8713187 ,  0.96729486,  1.        ]),\n",
       " array([ 2.44929360e-16,  2.53654584e-01,  4.90717552e-01,  6.95682551e-01,\n",
       "         8.55142763e-01,  9.58667853e-01,  9.99486216e-01,  9.74927912e-01,\n",
       "         8.86599306e-01,  7.40277997e-01,  5.45534901e-01,  3.15108218e-01,\n",
       "         6.40702200e-02, -1.91158629e-01, -4.33883739e-01, -6.48228395e-01,\n",
       "        -8.20172255e-01, -9.38468422e-01, -9.95379113e-01, -9.87181783e-01,\n",
       "        -9.14412623e-01, -7.81831482e-01, -5.98110530e-01, -3.75267005e-01,\n",
       "        -1.27877162e-01,  1.27877162e-01,  3.75267005e-01,  5.98110530e-01,\n",
       "         7.81831482e-01,  9.14412623e-01,  9.87181783e-01,  9.95379113e-01,\n",
       "         9.38468422e-01,  8.20172255e-01,  6.48228395e-01,  4.33883739e-01,\n",
       "         1.91158629e-01, -6.40702200e-02, -3.15108218e-01, -5.45534901e-01,\n",
       "        -7.40277997e-01, -8.86599306e-01, -9.74927912e-01, -9.99486216e-01,\n",
       "        -9.58667853e-01, -8.55142763e-01, -6.95682551e-01, -4.90717552e-01,\n",
       "        -2.53654584e-01, -2.44929360e-16]))"
      ]
     },
     "execution_count": 213,
     "metadata": {},
     "output_type": "execute_result"
    }
   ],
   "source": [
    "b"
   ]
  },
  {
   "cell_type": "code",
   "execution_count": 221,
   "metadata": {},
   "outputs": [
    {
     "name": "stdout",
     "output_type": "stream",
     "text": [
      " El volumen de la unidad C no tiene etiqueta.\n",
      " El n£mero de serie del volumen es: 92B0-899A\n",
      "\n",
      " Directorio de C:\\Users\\DELL VOSTRO\n",
      "\n",
      "16/08/2019  10:35 a. m.    <DIR>          .\n",
      "16/08/2019  10:35 a. m.    <DIR>          ..\n",
      "16/08/2019  09:56 a. m.    <DIR>          .ipynb_checkpoints\n",
      "26/05/2019  11:20 a. m.    <DIR>          .ipython\n",
      "26/05/2019  03:07 p. m.    <DIR>          .jupyter\n",
      "26/05/2019  04:26 p. m.    <DIR>          .matplotlib\n",
      "12/07/2019  12:13 p. m.    <DIR>          3D Objects\n",
      "29/05/2019  01:46 p. m.            21,600 Ahora si.ipynb\n",
      "11/08/2019  07:57 p. m.    <DIR>          Anaconda3\n",
      "16/08/2019  10:35 a. m.            46,838 clase.ipynb\n",
      "12/07/2019  12:13 p. m.    <DIR>          Contacts\n",
      "16/08/2019  10:36 a. m.    <DIR>          Desktop\n",
      "26/05/2019  06:53 p. m.             2,314 Discretizar segundas derivadas.ipynb\n",
      "31/07/2019  06:58 p. m.    <DIR>          Documents\n",
      "12/08/2019  10:18 a. m.    <DIR>          Downloads\n",
      "11/08/2019  09:09 p. m.            57,348 Ejemplos_cap1.py\n",
      "11/08/2019  08:56 p. m.            13,948 Ejemplos_cap2.py\n",
      "12/07/2019  12:13 p. m.    <DIR>          Favorites\n",
      "12/07/2019  12:14 p. m.    <DIR>          Links\n",
      "12/07/2019  12:13 p. m.    <DIR>          Music\n",
      "29/11/2018  05:23 p. m.    <DIR>          OneDrive\n",
      "11/08/2019  08:56 p. m.    <DIR>          Pictures\n",
      "31/05/2019  09:58 p. m.            31,049 Proyecto final.ipynb\n",
      "28/05/2019  01:09 p. m.             3,461 Proyecto numerico.ipynb\n",
      "31/05/2019  01:59 a. m.             4,106 Proyecto.ipynb\n",
      "12/07/2019  12:14 p. m.    <DIR>          Saved Games\n",
      "12/07/2019  12:13 p. m.    <DIR>          Searches\n",
      "26/05/2019  04:17 p. m.             2,371 Testing Jupyter.ipynb\n",
      "31/05/2019  10:25 a. m.            25,241 Testing.ipynb\n",
      "27/05/2019  05:58 p. m.               555 Untitled.ipynb\n",
      "11/08/2019  08:36 p. m.            57,348 Untitled1.ipynb\n",
      "30/05/2019  08:45 p. m.            33,444 Untitled2.ipynb\n",
      "11/08/2019  08:55 p. m.            13,948 Untitled3.ipynb\n",
      "16/08/2019  09:55 a. m.            37,137 Untitled4.ipynb\n",
      "12/07/2019  12:13 p. m.    <DIR>          Videos\n",
      "              15 archivos        350,708 bytes\n",
      "              20 dirs  156,840,669,184 bytes libres\n"
     ]
    }
   ],
   "source": [
    "ls\n"
   ]
  },
  {
   "cell_type": "code",
   "execution_count": 229,
   "metadata": {},
   "outputs": [
    {
     "data": {
      "text/plain": [
       "array([[1701. , 1702. , 1703. , 1704. , 1705. , 1706. , 1707. , 1708. ,\n",
       "        1709. , 1710. , 1711. , 1712. , 1713. , 1714. , 1715. , 1716. ,\n",
       "        1717. , 1718. , 1719. , 1720. , 1721. , 1722. , 1723. , 1724. ,\n",
       "        1725. , 1726. , 1727. , 1728. , 1729. , 1730. , 1731. , 1732. ,\n",
       "        1733. , 1734. , 1735. , 1736. , 1737. , 1738. , 1739. , 1740. ,\n",
       "        1741. , 1742. , 1743. , 1744. , 1745. , 1746. , 1747. , 1748. ,\n",
       "        1749. , 1750. , 1751. , 1752. , 1753. , 1754. , 1755. , 1756. ,\n",
       "        1757. , 1758. , 1759. , 1760. ],\n",
       "       [  11. ,   16. ,   23. ,   36. ,   58. ,   29. ,   20. ,   10. ,\n",
       "           8. ,    3. ,    0. ,    0. ,    2. ,   11. ,   27. ,   47. ,\n",
       "          63. ,   60. ,   39. ,   28. ,   26. ,   22. ,   11. ,   21. ,\n",
       "          40. ,   78. ,  122. ,  103. ,   73. ,   47. ,   35. ,   11. ,\n",
       "           5. ,   16. ,   34. ,   70. ,   81. ,  111. ,  101. ,   73. ,\n",
       "          40. ,   20. ,   16. ,    5. ,   11. ,   22. ,   40. ,   60. ,\n",
       "          80.9,   83.4,   47.7,   47.8,   30.7,   12.2,    9.6,   10.2,\n",
       "          32.4,   47.6,   54. ,   62.9]])"
      ]
     },
     "execution_count": 229,
     "metadata": {},
     "output_type": "execute_result"
    }
   ],
   "source": [
    "#LECTURA DE ARCHIVOS Y ACCESO A BASES DE DATOS\n",
    "sunspots=np.loadtxt('sunspots.txt',usecols=(0,1),unpack=True)\n",
    "sunspots"
   ]
  },
  {
   "cell_type": "code",
   "execution_count": 290,
   "metadata": {},
   "outputs": [
    {
     "data": {
      "text/plain": [
       "[array([1701, 1702, 1703, 1704, 1705, 1706, 1707, 1708, 1709, 1710, 1711,\n",
       "        1712, 1713, 1714, 1715, 1716, 1717, 1718, 1719, 1720, 1721, 1722,\n",
       "        1723, 1724, 1725, 1726, 1727, 1728, 1729, 1730, 1731, 1732, 1733,\n",
       "        1734, 1735, 1736, 1737, 1738, 1739, 1740, 1741, 1742, 1743, 1744,\n",
       "        1745, 1746, 1747, 1748, 1749, 1750, 1751, 1752, 1753, 1754, 1755,\n",
       "        1756, 1757, 1758, 1759, 1760]),\n",
       " array([ 11. ,  16. ,  23. ,  36. ,  58. ,  29. ,  20. ,  10. ,   8. ,\n",
       "          3. ,   0. ,   0. ,   2. ,  11. ,  27. ,  47. ,  63. ,  60. ,\n",
       "         39. ,  28. ,  26. ,  22. ,  11. ,  21. ,  40. ,  78. , 122. ,\n",
       "        103. ,  73. ,  47. ,  35. ,  11. ,   5. ,  16. ,  34. ,  70. ,\n",
       "         81. , 111. , 101. ,  73. ,  40. ,  20. ,  16. ,   5. ,  11. ,\n",
       "         22. ,  40. ,  60. ,  80.9,  83.4,  47.7,  47.8,  30.7,  12.2,\n",
       "          9.6,  10.2,  32.4,  47.6,  54. ,  62.9])]"
      ]
     },
     "execution_count": 290,
     "metadata": {},
     "output_type": "execute_result"
    }
   ],
   "source": [
    "#LECTURA DE ARCHIVOS Y ACCESO A BASES DE DATOS\n",
    "sunspots=np.loadtxt('sunspots.txt',dtype=[('anio',int),('Numero',float)],skiprows=4,usecols=(0,1),unpack=True)\n",
    "sunspots\n",
    "#Tarea: crear un solo arreglo de anios y uno de manchas solares"
   ]
  },
  {
   "cell_type": "code",
   "execution_count": 235,
   "metadata": {},
   "outputs": [],
   "source": [
    "np.genfromtxt?"
   ]
  },
  {
   "cell_type": "code",
   "execution_count": 237,
   "metadata": {},
   "outputs": [
    {
     "data": {
      "text/plain": [
       "[array([1701, 1702, 1703, 1704, 1705, 1706, 1707, 1708, 1709, 1710, 1711,\n",
       "        1712, 1713, 1714, 1715, 1716, 1717, 1718, 1719, 1720, 1721, 1722,\n",
       "        1723, 1724, 1725, 1726, 1727, 1728, 1729, 1730, 1731, 1732, 1733,\n",
       "        1734, 1735, 1736, 1737, 1738, 1739, 1740, 1741, 1742, 1743, 1744,\n",
       "        1745, 1746, 1747, 1748, 1749, 1750, 1751, 1752, 1753, 1754, 1755,\n",
       "        1756, 1757, 1758, 1759, 1760]),\n",
       " array([ 11. ,  16. ,  23. ,  36. ,  58. ,  29. ,  20. ,  10. ,   8. ,\n",
       "          3. ,   0. ,   0. ,   2. ,  11. ,  27. ,  47. ,  63. ,  60. ,\n",
       "         39. ,  28. ,  26. ,  22. ,  11. ,  21. ,  40. ,  78. , 122. ,\n",
       "        103. ,  73. ,  47. ,  35. ,  11. ,   5. ,  16. ,  34. ,  70. ,\n",
       "         81. , 111. , 101. ,  73. ,  40. ,  20. ,  16. ,   5. ,  11. ,\n",
       "         22. ,  40. ,  60. ,  80.9,  83.4,  47.7,  47.8,  30.7,  12.2,\n",
       "          9.6,  10.2,  32.4,  47.6,  54. ,  62.9])]"
      ]
     },
     "execution_count": 237,
     "metadata": {},
     "output_type": "execute_result"
    }
   ],
   "source": [
    "#LECTURA DE ARCHIVOS Y ACCESO A BASES DE DATOS\n",
    "sunspots=np.loadtxt('sunspots.txt',dtype=[('anio',int),('Numero',float)],skiprows=4,usecols=(0,1),unpack=True)\n",
    "sunspots"
   ]
  },
  {
   "cell_type": "code",
   "execution_count": 239,
   "metadata": {},
   "outputs": [
    {
     "data": {
      "text/plain": [
       "[<matplotlib.lines.Line2D at 0x5a57190>]"
      ]
     },
     "execution_count": 239,
     "metadata": {},
     "output_type": "execute_result"
    },
    {
     "data": {
      "image/png": "[encoded data removed]",
      "text/plain": [
       "<Figure size 432x288 with 1 Axes>"
      ]
     },
     "metadata": {
      "needs_background": "light"
     },
     "output_type": "display_data"
    }
   ],
   "source": [
    "plt.plot(sunspots[0],sunspots[1])"
   ]
  },
  {
   "cell_type": "code",
   "execution_count": 246,
   "metadata": {},
   "outputs": [
    {
     "ename": "ValueError",
     "evalue": "too many values to unpack (expected 2)",
     "output_type": "error",
     "traceback": [
      "\u001b[1;31m---------------------------------------------------------------------------\u001b[0m",
      "\u001b[1;31mValueError\u001b[0m                                Traceback (most recent call last)",
      "\u001b[1;32m<ipython-input-246-f72ea81d62e3>\u001b[0m in \u001b[0;36m<module>\u001b[1;34m\u001b[0m\n\u001b[1;32m----> 1\u001b[1;33m \u001b[0myear\u001b[0m\u001b[1;33m,\u001b[0m\u001b[0mnumber\u001b[0m\u001b[1;33m=\u001b[0m\u001b[0mnp\u001b[0m\u001b[1;33m.\u001b[0m\u001b[0mloadtxt\u001b[0m\u001b[1;33m(\u001b[0m\u001b[1;34m'sunspots.txt'\u001b[0m\u001b[1;33m)\u001b[0m\u001b[1;33m\u001b[0m\u001b[1;33m\u001b[0m\u001b[0m\n\u001b[0m",
      "\u001b[1;31mValueError\u001b[0m: too many values to unpack (expected 2)"
     ]
    }
   ],
   "source": [
    "year,number=np.loadtxt('sunspots.txt')"
   ]
  },
  {
   "cell_type": "code",
   "execution_count": null,
   "metadata": {},
   "outputs": [],
   "source": [
    "plt"
   ]
  },
  {
   "cell_type": "code",
   "execution_count": 248,
   "metadata": {},
   "outputs": [
    {
     "ename": "NameError",
     "evalue": "name 'year' is not defined",
     "output_type": "error",
     "traceback": [
      "\u001b[1;31m---------------------------------------------------------------------------\u001b[0m",
      "\u001b[1;31mNameError\u001b[0m                                 Traceback (most recent call last)",
      "\u001b[1;32m<ipython-input-248-301b581b90f3>\u001b[0m in \u001b[0;36m<module>\u001b[1;34m\u001b[0m\n\u001b[1;32m----> 1\u001b[1;33m \u001b[0mnp\u001b[0m\u001b[1;33m.\u001b[0m\u001b[0msave\u001b[0m\u001b[1;33m(\u001b[0m\u001b[1;34m'sunspots'\u001b[0m\u001b[1;33m,\u001b[0m\u001b[1;33m(\u001b[0m\u001b[0myear\u001b[0m\u001b[1;33m,\u001b[0m\u001b[0mnumber\u001b[0m\u001b[1;33m)\u001b[0m\u001b[1;33m)\u001b[0m\u001b[1;33m\u001b[0m\u001b[1;33m\u001b[0m\u001b[0m\n\u001b[0m",
      "\u001b[1;31mNameError\u001b[0m: name 'year' is not defined"
     ]
    }
   ],
   "source": [
    "np.save('sunspots',(year,number))"
   ]
  },
  {
   "cell_type": "code",
   "execution_count": 251,
   "metadata": {},
   "outputs": [
    {
     "ename": "FileNotFoundError",
     "evalue": "[Errno 2] No such file or directory: 'sunspots.npy'",
     "output_type": "error",
     "traceback": [
      "\u001b[1;31m---------------------------------------------------------------------------\u001b[0m",
      "\u001b[1;31mFileNotFoundError\u001b[0m                         Traceback (most recent call last)",
      "\u001b[1;32m<ipython-input-251-52ed495ee055>\u001b[0m in \u001b[0;36m<module>\u001b[1;34m\u001b[0m\n\u001b[1;32m----> 1\u001b[1;33m \u001b[0mdata\u001b[0m\u001b[1;33m=\u001b[0m\u001b[0mnp\u001b[0m\u001b[1;33m.\u001b[0m\u001b[0mload\u001b[0m\u001b[1;33m(\u001b[0m\u001b[1;34m'sunspots.npy'\u001b[0m\u001b[1;33m)\u001b[0m\u001b[1;33m\u001b[0m\u001b[1;33m\u001b[0m\u001b[0m\n\u001b[0m",
      "\u001b[1;32m~\\Anaconda3\\lib\\site-packages\\numpy\\lib\\npyio.py\u001b[0m in \u001b[0;36mload\u001b[1;34m(file, mmap_mode, allow_pickle, fix_imports, encoding)\u001b[0m\n\u001b[0;32m    413\u001b[0m         \u001b[0mown_fid\u001b[0m \u001b[1;33m=\u001b[0m \u001b[1;32mFalse\u001b[0m\u001b[1;33m\u001b[0m\u001b[1;33m\u001b[0m\u001b[0m\n\u001b[0;32m    414\u001b[0m     \u001b[1;32melse\u001b[0m\u001b[1;33m:\u001b[0m\u001b[1;33m\u001b[0m\u001b[1;33m\u001b[0m\u001b[0m\n\u001b[1;32m--> 415\u001b[1;33m         \u001b[0mfid\u001b[0m \u001b[1;33m=\u001b[0m \u001b[0mopen\u001b[0m\u001b[1;33m(\u001b[0m\u001b[0mos_fspath\u001b[0m\u001b[1;33m(\u001b[0m\u001b[0mfile\u001b[0m\u001b[1;33m)\u001b[0m\u001b[1;33m,\u001b[0m \u001b[1;34m\"rb\"\u001b[0m\u001b[1;33m)\u001b[0m\u001b[1;33m\u001b[0m\u001b[1;33m\u001b[0m\u001b[0m\n\u001b[0m\u001b[0;32m    416\u001b[0m         \u001b[0mown_fid\u001b[0m \u001b[1;33m=\u001b[0m \u001b[1;32mTrue\u001b[0m\u001b[1;33m\u001b[0m\u001b[1;33m\u001b[0m\u001b[0m\n\u001b[0;32m    417\u001b[0m \u001b[1;33m\u001b[0m\u001b[0m\n",
      "\u001b[1;31mFileNotFoundError\u001b[0m: [Errno 2] No such file or directory: 'sunspots.npy'"
     ]
    }
   ],
   "source": [
    "data=np.load('sunspots.npy')"
   ]
  },
  {
   "cell_type": "code",
   "execution_count": 254,
   "metadata": {},
   "outputs": [],
   "source": [
    "np.savetxt?"
   ]
  },
  {
   "cell_type": "code",
   "execution_count": 262,
   "metadata": {},
   "outputs": [],
   "source": [
    "import pandas as pd"
   ]
  },
  {
   "cell_type": "code",
   "execution_count": 263,
   "metadata": {},
   "outputs": [],
   "source": [
    "tabulador=pd.read_excel('tabulador_pe2019.xls',header=9)"
   ]
  },
  {
   "cell_type": "code",
   "execution_count": 264,
   "metadata": {},
   "outputs": [],
   "source": [
    "pd.read_excel?\n"
   ]
  },
  {
   "cell_type": "code",
   "execution_count": 265,
   "metadata": {},
   "outputs": [
    {
     "data": {
      "text/plain": [
       "Index(['NIVEL', 'TIPO', 'PUESTO', 'SUELDO BASE', 'CUOTAS SEGURIDAD SOCIAL',\n",
       "       'PREVISIÓN SOCIAL', 'AYUDA X SERVICIOS', 'APOYO FAMILIAR',\n",
       "       'GRATIFICACIÓN QUINCENAL', 'SUELDO MENSUAL BRUTO', 'IMPTO MENSUAL',\n",
       "       'ISSEG', 'ISSSTE', 'SUELDO MENSUAL NETO', 'PRIMA VACACIONAL',\n",
       "       'AGUINALDO'],\n",
       "      dtype='object')"
      ]
     },
     "execution_count": 265,
     "metadata": {},
     "output_type": "execute_result"
    }
   ],
   "source": [
    "tabulador.keys()"
   ]
  },
  {
   "cell_type": "code",
   "execution_count": 268,
   "metadata": {},
   "outputs": [
    {
     "data": {
      "text/html": [
       "<div>\n",
       "<style scoped>\n",
       "    .dataframe tbody tr th:only-of-type {\n",
       "        vertical-align: middle;\n",
       "    }\n",
       "\n",
       "    .dataframe tbody tr th {\n",
       "        vertical-align: top;\n",
       "    }\n",
       "\n",
       "    .dataframe thead th {\n",
       "        text-align: right;\n",
       "    }\n",
       "</style>\n",
       "<table border=\"1\" class=\"dataframe\">\n",
       "  <thead>\n",
       "    <tr style=\"text-align: right;\">\n",
       "      <th></th>\n",
       "      <th>NIVEL</th>\n",
       "      <th>SUELDO BASE</th>\n",
       "      <th>CUOTAS SEGURIDAD SOCIAL</th>\n",
       "      <th>PREVISIÓN SOCIAL</th>\n",
       "      <th>AYUDA X SERVICIOS</th>\n",
       "      <th>APOYO FAMILIAR</th>\n",
       "      <th>GRATIFICACIÓN QUINCENAL</th>\n",
       "      <th>SUELDO MENSUAL BRUTO</th>\n",
       "      <th>IMPTO MENSUAL</th>\n",
       "      <th>ISSEG</th>\n",
       "      <th>ISSSTE</th>\n",
       "      <th>SUELDO MENSUAL NETO</th>\n",
       "    </tr>\n",
       "  </thead>\n",
       "  <tbody>\n",
       "    <tr>\n",
       "      <th>count</th>\n",
       "      <td>79.000000</td>\n",
       "      <td>79.000000</td>\n",
       "      <td>79.000000</td>\n",
       "      <td>7.900000e+01</td>\n",
       "      <td>79.000000</td>\n",
       "      <td>79.000000</td>\n",
       "      <td>79.000000</td>\n",
       "      <td>79.000000</td>\n",
       "      <td>79.000000</td>\n",
       "      <td>79.000000</td>\n",
       "      <td>79.000000</td>\n",
       "      <td>79.000000</td>\n",
       "    </tr>\n",
       "    <tr>\n",
       "      <th>mean</th>\n",
       "      <td>8.670886</td>\n",
       "      <td>14427.528244</td>\n",
       "      <td>2551.057005</td>\n",
       "      <td>1.913100e+03</td>\n",
       "      <td>4224.316456</td>\n",
       "      <td>13095.416510</td>\n",
       "      <td>13255.957722</td>\n",
       "      <td>49467.375935</td>\n",
       "      <td>11086.965356</td>\n",
       "      <td>2178.762464</td>\n",
       "      <td>372.294541</td>\n",
       "      <td>35829.353574</td>\n",
       "    </tr>\n",
       "    <tr>\n",
       "      <th>std</th>\n",
       "      <td>5.658489</td>\n",
       "      <td>12639.319936</td>\n",
       "      <td>1887.367119</td>\n",
       "      <td>2.745919e-12</td>\n",
       "      <td>5917.564742</td>\n",
       "      <td>12561.423626</td>\n",
       "      <td>16283.009818</td>\n",
       "      <td>48932.415025</td>\n",
       "      <td>14333.022606</td>\n",
       "      <td>1632.291459</td>\n",
       "      <td>257.338508</td>\n",
       "      <td>32902.782725</td>\n",
       "    </tr>\n",
       "    <tr>\n",
       "      <th>min</th>\n",
       "      <td>1.000000</td>\n",
       "      <td>3080.400000</td>\n",
       "      <td>600.678000</td>\n",
       "      <td>1.913100e+03</td>\n",
       "      <td>450.000000</td>\n",
       "      <td>1572.330000</td>\n",
       "      <td>0.000000</td>\n",
       "      <td>7616.508000</td>\n",
       "      <td>263.883632</td>\n",
       "      <td>508.266000</td>\n",
       "      <td>92.412000</td>\n",
       "      <td>6751.946368</td>\n",
       "    </tr>\n",
       "    <tr>\n",
       "      <th>25%</th>\n",
       "      <td>4.000000</td>\n",
       "      <td>4564.185105</td>\n",
       "      <td>890.016096</td>\n",
       "      <td>1.913100e+03</td>\n",
       "      <td>450.000000</td>\n",
       "      <td>3599.725827</td>\n",
       "      <td>936.540000</td>\n",
       "      <td>12353.567028</td>\n",
       "      <td>1173.958791</td>\n",
       "      <td>753.090542</td>\n",
       "      <td>136.925553</td>\n",
       "      <td>10289.592141</td>\n",
       "    </tr>\n",
       "    <tr>\n",
       "      <th>50%</th>\n",
       "      <td>8.000000</td>\n",
       "      <td>9458.572628</td>\n",
       "      <td>1844.421662</td>\n",
       "      <td>1.913100e+03</td>\n",
       "      <td>1012.000000</td>\n",
       "      <td>8611.753511</td>\n",
       "      <td>6545.820000</td>\n",
       "      <td>28148.204516</td>\n",
       "      <td>4414.420662</td>\n",
       "      <td>1560.664484</td>\n",
       "      <td>283.757179</td>\n",
       "      <td>22078.225282</td>\n",
       "    </tr>\n",
       "    <tr>\n",
       "      <th>75%</th>\n",
       "      <td>13.000000</td>\n",
       "      <td>22680.796123</td>\n",
       "      <td>4422.755244</td>\n",
       "      <td>1.913100e+03</td>\n",
       "      <td>4906.000000</td>\n",
       "      <td>16798.836156</td>\n",
       "      <td>19519.330000</td>\n",
       "      <td>70240.817524</td>\n",
       "      <td>15454.848684</td>\n",
       "      <td>3742.331360</td>\n",
       "      <td>680.423884</td>\n",
       "      <td>50363.213596</td>\n",
       "    </tr>\n",
       "    <tr>\n",
       "      <th>max</th>\n",
       "      <td>22.000000</td>\n",
       "      <td>59804.327930</td>\n",
       "      <td>5843.070000</td>\n",
       "      <td>1.913100e+03</td>\n",
       "      <td>25897.000000</td>\n",
       "      <td>64294.837780</td>\n",
       "      <td>75373.990000</td>\n",
       "      <td>233126.325711</td>\n",
       "      <td>69584.321342</td>\n",
       "      <td>5082.660000</td>\n",
       "      <td>760.410000</td>\n",
       "      <td>157698.934369</td>\n",
       "    </tr>\n",
       "  </tbody>\n",
       "</table>\n",
       "</div>"
      ],
      "text/plain": [
       "           NIVEL   SUELDO BASE  CUOTAS SEGURIDAD SOCIAL  PREVISIÓN SOCIAL  \\\n",
       "count  79.000000     79.000000                79.000000      7.900000e+01   \n",
       "mean    8.670886  14427.528244              2551.057005      1.913100e+03   \n",
       "std     5.658489  12639.319936              1887.367119      2.745919e-12   \n",
       "min     1.000000   3080.400000               600.678000      1.913100e+03   \n",
       "25%     4.000000   4564.185105               890.016096      1.913100e+03   \n",
       "50%     8.000000   9458.572628              1844.421662      1.913100e+03   \n",
       "75%    13.000000  22680.796123              4422.755244      1.913100e+03   \n",
       "max    22.000000  59804.327930              5843.070000      1.913100e+03   \n",
       "\n",
       "       AYUDA X SERVICIOS  APOYO FAMILIAR  GRATIFICACIÓN QUINCENAL  \\\n",
       "count          79.000000       79.000000                79.000000   \n",
       "mean         4224.316456    13095.416510             13255.957722   \n",
       "std          5917.564742    12561.423626             16283.009818   \n",
       "min           450.000000     1572.330000                 0.000000   \n",
       "25%           450.000000     3599.725827               936.540000   \n",
       "50%          1012.000000     8611.753511              6545.820000   \n",
       "75%          4906.000000    16798.836156             19519.330000   \n",
       "max         25897.000000    64294.837780             75373.990000   \n",
       "\n",
       "       SUELDO MENSUAL BRUTO  IMPTO MENSUAL        ISSEG      ISSSTE  \\\n",
       "count             79.000000      79.000000    79.000000   79.000000   \n",
       "mean           49467.375935   11086.965356  2178.762464  372.294541   \n",
       "std            48932.415025   14333.022606  1632.291459  257.338508   \n",
       "min             7616.508000     263.883632   508.266000   92.412000   \n",
       "25%            12353.567028    1173.958791   753.090542  136.925553   \n",
       "50%            28148.204516    4414.420662  1560.664484  283.757179   \n",
       "75%            70240.817524   15454.848684  3742.331360  680.423884   \n",
       "max           233126.325711   69584.321342  5082.660000  760.410000   \n",
       "\n",
       "       SUELDO MENSUAL NETO  \n",
       "count            79.000000  \n",
       "mean          35829.353574  \n",
       "std           32902.782725  \n",
       "min            6751.946368  \n",
       "25%           10289.592141  \n",
       "50%           22078.225282  \n",
       "75%           50363.213596  \n",
       "max          157698.934369  "
      ]
     },
     "execution_count": 268,
     "metadata": {},
     "output_type": "execute_result"
    }
   ],
   "source": [
    "tabulador.describe()"
   ]
  },
  {
   "cell_type": "code",
   "execution_count": 284,
   "metadata": {},
   "outputs": [],
   "source": [
    "import requests\n",
    "import os"
   ]
  },
  {
   "cell_type": "code",
   "execution_count": 273,
   "metadata": {},
   "outputs": [],
   "source": [
    "requests?"
   ]
  },
  {
   "cell_type": "code",
   "execution_count": 288,
   "metadata": {},
   "outputs": [
    {
     "data": {
      "text/html": [
       "<div>\n",
       "<style scoped>\n",
       "    .dataframe tbody tr th:only-of-type {\n",
       "        vertical-align: middle;\n",
       "    }\n",
       "\n",
       "    .dataframe tbody tr th {\n",
       "        vertical-align: top;\n",
       "    }\n",
       "\n",
       "    .dataframe thead th {\n",
       "        text-align: right;\n",
       "    }\n",
       "</style>\n",
       "<table border=\"1\" class=\"dataframe\">\n",
       "  <thead>\n",
       "    <tr style=\"text-align: right;\">\n",
       "      <th></th>\n",
       "      <th>Unnamed: 0</th>\n",
       "      <th>Fecha de publicación el DOF</th>\n",
       "      <th>Vigente a partir de:</th>\n",
       "      <th>ZLFN1</th>\n",
       "      <th>Resto del país</th>\n",
       "      <th>\"A\"</th>\n",
       "      <th>\"B\"</th>\n",
       "      <th>\"C\"</th>\n",
       "    </tr>\n",
       "  </thead>\n",
       "  <tbody>\n",
       "    <tr>\n",
       "      <th>0</th>\n",
       "      <td>0</td>\n",
       "      <td>26 de diciembre de 2018</td>\n",
       "      <td>1o. enero 2019</td>\n",
       "      <td>$176.72</td>\n",
       "      <td>$102.68</td>\n",
       "      <td>NaN</td>\n",
       "      <td>NaN</td>\n",
       "      <td>NaN</td>\n",
       "    </tr>\n",
       "    <tr>\n",
       "      <th>1</th>\n",
       "      <td>1</td>\n",
       "      <td>21 de diciembre de 2017</td>\n",
       "      <td>1o. enero 2018</td>\n",
       "      <td>NaN</td>\n",
       "      <td>NaN</td>\n",
       "      <td>$88.36</td>\n",
       "      <td>NaN</td>\n",
       "      <td>NaN</td>\n",
       "    </tr>\n",
       "    <tr>\n",
       "      <th>2</th>\n",
       "      <td>2</td>\n",
       "      <td>24 de noviembre de 2017</td>\n",
       "      <td>1o. diciembre 2017</td>\n",
       "      <td>NaN</td>\n",
       "      <td>NaN</td>\n",
       "      <td>88.36</td>\n",
       "      <td>NaN</td>\n",
       "      <td>NaN</td>\n",
       "    </tr>\n",
       "    <tr>\n",
       "      <th>3</th>\n",
       "      <td>3</td>\n",
       "      <td>19 de diciembre de 2016</td>\n",
       "      <td>1o. enero 2017</td>\n",
       "      <td>NaN</td>\n",
       "      <td>NaN</td>\n",
       "      <td>80.04</td>\n",
       "      <td>NaN</td>\n",
       "      <td>NaN</td>\n",
       "    </tr>\n",
       "    <tr>\n",
       "      <th>4</th>\n",
       "      <td>4</td>\n",
       "      <td>18 de diciembre de 2015</td>\n",
       "      <td>1o. enero 2016</td>\n",
       "      <td>NaN</td>\n",
       "      <td>NaN</td>\n",
       "      <td>73.04</td>\n",
       "      <td>NaN</td>\n",
       "      <td>NaN</td>\n",
       "    </tr>\n",
       "    <tr>\n",
       "      <th>5</th>\n",
       "      <td>5</td>\n",
       "      <td>30 de septiembre de 2015</td>\n",
       "      <td>1o. octubre de 2015</td>\n",
       "      <td>NaN</td>\n",
       "      <td>NaN</td>\n",
       "      <td>70.10</td>\n",
       "      <td>NaN</td>\n",
       "      <td>NaN</td>\n",
       "    </tr>\n",
       "    <tr>\n",
       "      <th>6</th>\n",
       "      <td>6</td>\n",
       "      <td>30 de marzo de 2015</td>\n",
       "      <td>1o. abril 2015</td>\n",
       "      <td>NaN</td>\n",
       "      <td>NaN</td>\n",
       "      <td>70.10</td>\n",
       "      <td>68.28</td>\n",
       "      <td>NaN</td>\n",
       "    </tr>\n",
       "    <tr>\n",
       "      <th>7</th>\n",
       "      <td>7</td>\n",
       "      <td>29 de diciembre de 2014</td>\n",
       "      <td>1o. enero 2015</td>\n",
       "      <td>NaN</td>\n",
       "      <td>NaN</td>\n",
       "      <td>70.10</td>\n",
       "      <td>66.45</td>\n",
       "      <td>NaN</td>\n",
       "    </tr>\n",
       "    <tr>\n",
       "      <th>8</th>\n",
       "      <td>8</td>\n",
       "      <td>26 de diciembre de 2013</td>\n",
       "      <td>1o. enero 2014</td>\n",
       "      <td>NaN</td>\n",
       "      <td>NaN</td>\n",
       "      <td>67.29</td>\n",
       "      <td>63.77</td>\n",
       "      <td>NaN</td>\n",
       "    </tr>\n",
       "    <tr>\n",
       "      <th>9</th>\n",
       "      <td>9</td>\n",
       "      <td>21 de diciembre de 2012</td>\n",
       "      <td>1o. enero 2013</td>\n",
       "      <td>NaN</td>\n",
       "      <td>NaN</td>\n",
       "      <td>64.76</td>\n",
       "      <td>61.38</td>\n",
       "      <td>NaN</td>\n",
       "    </tr>\n",
       "    <tr>\n",
       "      <th>10</th>\n",
       "      <td>10</td>\n",
       "      <td>26 de noviembre de 2012</td>\n",
       "      <td>27 de noviembre 2012</td>\n",
       "      <td>NaN</td>\n",
       "      <td>NaN</td>\n",
       "      <td>62.33</td>\n",
       "      <td>59.08</td>\n",
       "      <td>N/A 2</td>\n",
       "    </tr>\n",
       "    <tr>\n",
       "      <th>11</th>\n",
       "      <td>11</td>\n",
       "      <td>19 de diciembre de 2011</td>\n",
       "      <td>1o. enero 2012</td>\n",
       "      <td>NaN</td>\n",
       "      <td>NaN</td>\n",
       "      <td>62.33</td>\n",
       "      <td>60.57</td>\n",
       "      <td>59.08</td>\n",
       "    </tr>\n",
       "    <tr>\n",
       "      <th>12</th>\n",
       "      <td>12</td>\n",
       "      <td>23 de diciembre de 2010</td>\n",
       "      <td>1o. enero 2011</td>\n",
       "      <td>NaN</td>\n",
       "      <td>NaN</td>\n",
       "      <td>59.82</td>\n",
       "      <td>58.13</td>\n",
       "      <td>56.70</td>\n",
       "    </tr>\n",
       "    <tr>\n",
       "      <th>13</th>\n",
       "      <td>13</td>\n",
       "      <td>23 de diciembre de 2009</td>\n",
       "      <td>1o. enero 2010</td>\n",
       "      <td>NaN</td>\n",
       "      <td>NaN</td>\n",
       "      <td>57.46</td>\n",
       "      <td>55.84</td>\n",
       "      <td>54.47</td>\n",
       "    </tr>\n",
       "    <tr>\n",
       "      <th>14</th>\n",
       "      <td>14</td>\n",
       "      <td>23 de diciembre de 2008</td>\n",
       "      <td>1o. enero 2009</td>\n",
       "      <td>NaN</td>\n",
       "      <td>NaN</td>\n",
       "      <td>54.80</td>\n",
       "      <td>53.26</td>\n",
       "      <td>51.95</td>\n",
       "    </tr>\n",
       "    <tr>\n",
       "      <th>15</th>\n",
       "      <td>15</td>\n",
       "      <td>27 de diciembre de 2007</td>\n",
       "      <td>1o. enero 2008</td>\n",
       "      <td>NaN</td>\n",
       "      <td>NaN</td>\n",
       "      <td>52.59</td>\n",
       "      <td>50.96</td>\n",
       "      <td>49.50</td>\n",
       "    </tr>\n",
       "    <tr>\n",
       "      <th>16</th>\n",
       "      <td>16</td>\n",
       "      <td>29 de diciembre de 2006</td>\n",
       "      <td>1o. enero 2007</td>\n",
       "      <td>NaN</td>\n",
       "      <td>NaN</td>\n",
       "      <td>50.57</td>\n",
       "      <td>49.00</td>\n",
       "      <td>47.60</td>\n",
       "    </tr>\n",
       "    <tr>\n",
       "      <th>17</th>\n",
       "      <td>17</td>\n",
       "      <td>26 de diciembre de 2005</td>\n",
       "      <td>1o. enero 2006</td>\n",
       "      <td>NaN</td>\n",
       "      <td>NaN</td>\n",
       "      <td>48.67</td>\n",
       "      <td>47.16</td>\n",
       "      <td>45.81</td>\n",
       "    </tr>\n",
       "    <tr>\n",
       "      <th>18</th>\n",
       "      <td>18</td>\n",
       "      <td>22 de diciembre de 2004</td>\n",
       "      <td>1° enero 2005</td>\n",
       "      <td>NaN</td>\n",
       "      <td>NaN</td>\n",
       "      <td>46.80</td>\n",
       "      <td>45.35</td>\n",
       "      <td>44.05</td>\n",
       "    </tr>\n",
       "    <tr>\n",
       "      <th>19</th>\n",
       "      <td>19</td>\n",
       "      <td>23 de diciembre de 2003</td>\n",
       "      <td>1º. enero 2004</td>\n",
       "      <td>NaN</td>\n",
       "      <td>NaN</td>\n",
       "      <td>45.24</td>\n",
       "      <td>43.73</td>\n",
       "      <td>42.11</td>\n",
       "    </tr>\n",
       "    <tr>\n",
       "      <th>20</th>\n",
       "      <td>20</td>\n",
       "      <td>26 de diciembre de 2002</td>\n",
       "      <td>1º. enero 2003</td>\n",
       "      <td>NaN</td>\n",
       "      <td>NaN</td>\n",
       "      <td>43.65</td>\n",
       "      <td>41.85</td>\n",
       "      <td>40.30</td>\n",
       "    </tr>\n",
       "    <tr>\n",
       "      <th>21</th>\n",
       "      <td>21</td>\n",
       "      <td>29 de diciembre de 2001</td>\n",
       "      <td>1º. enero 2002</td>\n",
       "      <td>NaN</td>\n",
       "      <td>NaN</td>\n",
       "      <td>42.15</td>\n",
       "      <td>40.10</td>\n",
       "      <td>38.30</td>\n",
       "    </tr>\n",
       "    <tr>\n",
       "      <th>22</th>\n",
       "      <td>22</td>\n",
       "      <td>27 de diciembre de 2000</td>\n",
       "      <td>1º. enero 2001</td>\n",
       "      <td>NaN</td>\n",
       "      <td>NaN</td>\n",
       "      <td>40.35</td>\n",
       "      <td>37.95</td>\n",
       "      <td>35.85</td>\n",
       "    </tr>\n",
       "    <tr>\n",
       "      <th>23</th>\n",
       "      <td>23</td>\n",
       "      <td>31 de diciembre de 1999</td>\n",
       "      <td>1º. enero 2000</td>\n",
       "      <td>NaN</td>\n",
       "      <td>NaN</td>\n",
       "      <td>37.90</td>\n",
       "      <td>35.10</td>\n",
       "      <td>32.70</td>\n",
       "    </tr>\n",
       "    <tr>\n",
       "      <th>24</th>\n",
       "      <td>24</td>\n",
       "      <td>2 de diciembre de 1998</td>\n",
       "      <td>1o. enero 1999</td>\n",
       "      <td>NaN</td>\n",
       "      <td>NaN</td>\n",
       "      <td>34.45</td>\n",
       "      <td>31.90</td>\n",
       "      <td>29.70</td>\n",
       "    </tr>\n",
       "    <tr>\n",
       "      <th>25</th>\n",
       "      <td>25</td>\n",
       "      <td>23 de diciembre de 1997</td>\n",
       "      <td>1o. enero 1998</td>\n",
       "      <td>NaN</td>\n",
       "      <td>NaN</td>\n",
       "      <td>30.20</td>\n",
       "      <td>28.00</td>\n",
       "      <td>26.00</td>\n",
       "    </tr>\n",
       "    <tr>\n",
       "      <th>26</th>\n",
       "      <td>26</td>\n",
       "      <td>2 de diciembre de 1996</td>\n",
       "      <td>1o. enero 1997</td>\n",
       "      <td>NaN</td>\n",
       "      <td>NaN</td>\n",
       "      <td>26.45</td>\n",
       "      <td>24.50</td>\n",
       "      <td>22.50</td>\n",
       "    </tr>\n",
       "    <tr>\n",
       "      <th>27</th>\n",
       "      <td>27</td>\n",
       "      <td>2 de diciembre de 1996</td>\n",
       "      <td>3 de diciembre 1996</td>\n",
       "      <td>NaN</td>\n",
       "      <td>NaN</td>\n",
       "      <td>26.45</td>\n",
       "      <td>24.50</td>\n",
       "      <td>22.50</td>\n",
       "    </tr>\n",
       "    <tr>\n",
       "      <th>28</th>\n",
       "      <td>28</td>\n",
       "      <td>28 de marzo de 1996</td>\n",
       "      <td>1o. abril 1996</td>\n",
       "      <td>NaN</td>\n",
       "      <td>NaN</td>\n",
       "      <td>22.60</td>\n",
       "      <td>20.95</td>\n",
       "      <td>19.05</td>\n",
       "    </tr>\n",
       "    <tr>\n",
       "      <th>29</th>\n",
       "      <td>29</td>\n",
       "      <td>2 de diciembre de 1995</td>\n",
       "      <td>1o. enero 1996</td>\n",
       "      <td>NaN</td>\n",
       "      <td>NaN</td>\n",
       "      <td>20.15</td>\n",
       "      <td>18.70</td>\n",
       "      <td>17.00</td>\n",
       "    </tr>\n",
       "    <tr>\n",
       "      <th>30</th>\n",
       "      <td>30</td>\n",
       "      <td>2 de diciembre 1995</td>\n",
       "      <td>4 de diciembre 1995</td>\n",
       "      <td>NaN</td>\n",
       "      <td>NaN</td>\n",
       "      <td>20.15</td>\n",
       "      <td>18.70</td>\n",
       "      <td>17.00</td>\n",
       "    </tr>\n",
       "    <tr>\n",
       "      <th>31</th>\n",
       "      <td>31</td>\n",
       "      <td>31 de marzo 1995</td>\n",
       "      <td>1o. abril 1995</td>\n",
       "      <td>NaN</td>\n",
       "      <td>NaN</td>\n",
       "      <td>18.30</td>\n",
       "      <td>17.00</td>\n",
       "      <td>15.44</td>\n",
       "    </tr>\n",
       "    <tr>\n",
       "      <th>32</th>\n",
       "      <td>32</td>\n",
       "      <td>21 de diciembre 1994</td>\n",
       "      <td>1o. enero 1995</td>\n",
       "      <td>NaN</td>\n",
       "      <td>NaN</td>\n",
       "      <td>16.34</td>\n",
       "      <td>15.18</td>\n",
       "      <td>13.79</td>\n",
       "    </tr>\n",
       "    <tr>\n",
       "      <th>33</th>\n",
       "      <td>33</td>\n",
       "      <td>13 de diciembre 1993</td>\n",
       "      <td>1o. enero 1994</td>\n",
       "      <td>NaN</td>\n",
       "      <td>NaN</td>\n",
       "      <td>15.27</td>\n",
       "      <td>14.19</td>\n",
       "      <td>12.89</td>\n",
       "    </tr>\n",
       "    <tr>\n",
       "      <th>34</th>\n",
       "      <td>34</td>\n",
       "      <td>7 de diciembre 1992</td>\n",
       "      <td>1o. enero 1993</td>\n",
       "      <td>NaN</td>\n",
       "      <td>NaN</td>\n",
       "      <td>N$ 14.27</td>\n",
       "      <td>N$ 13.26</td>\n",
       "      <td>N$ 12.05</td>\n",
       "    </tr>\n",
       "    <tr>\n",
       "      <th>35</th>\n",
       "      <td>35</td>\n",
       "      <td>4 de diciembre 1991</td>\n",
       "      <td>1o. enero 1992</td>\n",
       "      <td>NaN</td>\n",
       "      <td>NaN</td>\n",
       "      <td>13330.00</td>\n",
       "      <td>12320.00</td>\n",
       "      <td>11115.00</td>\n",
       "    </tr>\n",
       "    <tr>\n",
       "      <th>36</th>\n",
       "      <td>36</td>\n",
       "      <td>11 de noviembre 1991</td>\n",
       "      <td>11 de noviembre 1991</td>\n",
       "      <td>NaN</td>\n",
       "      <td>NaN</td>\n",
       "      <td>13330.00</td>\n",
       "      <td>12320.00</td>\n",
       "      <td>11115.00</td>\n",
       "    </tr>\n",
       "    <tr>\n",
       "      <th>37</th>\n",
       "      <td>37</td>\n",
       "      <td>24 de diciembre 1990</td>\n",
       "      <td>1o. enero 1991</td>\n",
       "      <td>NaN</td>\n",
       "      <td>NaN</td>\n",
       "      <td>11900.00</td>\n",
       "      <td>11000.00</td>\n",
       "      <td>9920.00</td>\n",
       "    </tr>\n",
       "    <tr>\n",
       "      <th>38</th>\n",
       "      <td>38</td>\n",
       "      <td>15 de noviembre 1990</td>\n",
       "      <td>16 de noviembre 1990</td>\n",
       "      <td>NaN</td>\n",
       "      <td>NaN</td>\n",
       "      <td>11900.00</td>\n",
       "      <td>11000.00</td>\n",
       "      <td>9920.00</td>\n",
       "    </tr>\n",
       "    <tr>\n",
       "      <th>39</th>\n",
       "      <td>39</td>\n",
       "      <td>4 de diciembre 1989</td>\n",
       "      <td>1o. enero 1990</td>\n",
       "      <td>NaN</td>\n",
       "      <td>NaN</td>\n",
       "      <td>10080.00</td>\n",
       "      <td>9325.00</td>\n",
       "      <td>8405.00</td>\n",
       "    </tr>\n",
       "    <tr>\n",
       "      <th>40</th>\n",
       "      <td>40</td>\n",
       "      <td>4 de diciembre 1989</td>\n",
       "      <td>4 de diciembre 1989</td>\n",
       "      <td>NaN</td>\n",
       "      <td>NaN</td>\n",
       "      <td>10080.00</td>\n",
       "      <td>9325.00</td>\n",
       "      <td>8405.00</td>\n",
       "    </tr>\n",
       "    <tr>\n",
       "      <th>41</th>\n",
       "      <td>41</td>\n",
       "      <td>26 de junio de 1989</td>\n",
       "      <td>1o. julio 1989</td>\n",
       "      <td>NaN</td>\n",
       "      <td>NaN</td>\n",
       "      <td>9160.00</td>\n",
       "      <td>8475.00</td>\n",
       "      <td>7640.00</td>\n",
       "    </tr>\n",
       "    <tr>\n",
       "      <th>42</th>\n",
       "      <td>42</td>\n",
       "      <td>14 de diciembre 1988</td>\n",
       "      <td>1o. enero 1989</td>\n",
       "      <td>NaN</td>\n",
       "      <td>NaN</td>\n",
       "      <td>8640.00</td>\n",
       "      <td>7995.00</td>\n",
       "      <td>7205.00</td>\n",
       "    </tr>\n",
       "    <tr>\n",
       "      <th>43</th>\n",
       "      <td>43</td>\n",
       "      <td>29 de febrero 1988</td>\n",
       "      <td>1o. marzo 1988</td>\n",
       "      <td>NaN</td>\n",
       "      <td>NaN</td>\n",
       "      <td>8000.00</td>\n",
       "      <td>7405.00</td>\n",
       "      <td>6670.00</td>\n",
       "    </tr>\n",
       "  </tbody>\n",
       "</table>\n",
       "</div>"
      ],
      "text/plain": [
       "    Unnamed: 0 Fecha de publicación el DOF  Vigente a partir de:    ZLFN1  \\\n",
       "0            0     26 de diciembre de 2018        1o. enero 2019  $176.72   \n",
       "1            1     21 de diciembre de 2017        1o. enero 2018      NaN   \n",
       "2            2     24 de noviembre de 2017    1o. diciembre 2017      NaN   \n",
       "3            3     19 de diciembre de 2016        1o. enero 2017      NaN   \n",
       "4            4     18 de diciembre de 2015        1o. enero 2016      NaN   \n",
       "5            5    30 de septiembre de 2015   1o. octubre de 2015      NaN   \n",
       "6            6         30 de marzo de 2015        1o. abril 2015      NaN   \n",
       "7            7     29 de diciembre de 2014        1o. enero 2015      NaN   \n",
       "8            8     26 de diciembre de 2013        1o. enero 2014      NaN   \n",
       "9            9     21 de diciembre de 2012        1o. enero 2013      NaN   \n",
       "10          10     26 de noviembre de 2012  27 de noviembre 2012      NaN   \n",
       "11          11     19 de diciembre de 2011        1o. enero 2012      NaN   \n",
       "12          12     23 de diciembre de 2010        1o. enero 2011      NaN   \n",
       "13          13     23 de diciembre de 2009        1o. enero 2010      NaN   \n",
       "14          14     23 de diciembre de 2008        1o. enero 2009      NaN   \n",
       "15          15     27 de diciembre de 2007        1o. enero 2008      NaN   \n",
       "16          16     29 de diciembre de 2006        1o. enero 2007      NaN   \n",
       "17          17     26 de diciembre de 2005        1o. enero 2006      NaN   \n",
       "18          18     22 de diciembre de 2004         1° enero 2005      NaN   \n",
       "19          19     23 de diciembre de 2003        1º. enero 2004      NaN   \n",
       "20          20     26 de diciembre de 2002        1º. enero 2003      NaN   \n",
       "21          21     29 de diciembre de 2001        1º. enero 2002      NaN   \n",
       "22          22     27 de diciembre de 2000        1º. enero 2001      NaN   \n",
       "23          23     31 de diciembre de 1999        1º. enero 2000      NaN   \n",
       "24          24      2 de diciembre de 1998        1o. enero 1999      NaN   \n",
       "25          25     23 de diciembre de 1997        1o. enero 1998      NaN   \n",
       "26          26      2 de diciembre de 1996        1o. enero 1997      NaN   \n",
       "27          27      2 de diciembre de 1996   3 de diciembre 1996      NaN   \n",
       "28          28         28 de marzo de 1996        1o. abril 1996      NaN   \n",
       "29          29      2 de diciembre de 1995        1o. enero 1996      NaN   \n",
       "30          30         2 de diciembre 1995   4 de diciembre 1995      NaN   \n",
       "31          31            31 de marzo 1995        1o. abril 1995      NaN   \n",
       "32          32        21 de diciembre 1994        1o. enero 1995      NaN   \n",
       "33          33        13 de diciembre 1993        1o. enero 1994      NaN   \n",
       "34          34         7 de diciembre 1992        1o. enero 1993      NaN   \n",
       "35          35         4 de diciembre 1991        1o. enero 1992      NaN   \n",
       "36          36        11 de noviembre 1991  11 de noviembre 1991      NaN   \n",
       "37          37        24 de diciembre 1990        1o. enero 1991      NaN   \n",
       "38          38        15 de noviembre 1990  16 de noviembre 1990      NaN   \n",
       "39          39         4 de diciembre 1989        1o. enero 1990      NaN   \n",
       "40          40         4 de diciembre 1989   4 de diciembre 1989      NaN   \n",
       "41          41         26 de junio de 1989        1o. julio 1989      NaN   \n",
       "42          42        14 de diciembre 1988        1o. enero 1989      NaN   \n",
       "43          43          29 de febrero 1988        1o. marzo 1988      NaN   \n",
       "\n",
       "   Resto del país       \"A\"       \"B\"       \"C\"  \n",
       "0         $102.68       NaN       NaN       NaN  \n",
       "1             NaN    $88.36       NaN       NaN  \n",
       "2             NaN     88.36       NaN       NaN  \n",
       "3             NaN     80.04       NaN       NaN  \n",
       "4             NaN     73.04       NaN       NaN  \n",
       "5             NaN     70.10       NaN       NaN  \n",
       "6             NaN     70.10     68.28       NaN  \n",
       "7             NaN     70.10     66.45       NaN  \n",
       "8             NaN     67.29     63.77       NaN  \n",
       "9             NaN     64.76     61.38       NaN  \n",
       "10            NaN     62.33     59.08     N/A 2  \n",
       "11            NaN     62.33     60.57     59.08  \n",
       "12            NaN     59.82     58.13     56.70  \n",
       "13            NaN     57.46     55.84     54.47  \n",
       "14            NaN     54.80     53.26     51.95  \n",
       "15            NaN     52.59     50.96     49.50  \n",
       "16            NaN     50.57     49.00     47.60  \n",
       "17            NaN     48.67     47.16     45.81  \n",
       "18            NaN     46.80     45.35     44.05  \n",
       "19            NaN     45.24     43.73     42.11  \n",
       "20            NaN     43.65     41.85     40.30  \n",
       "21            NaN     42.15     40.10     38.30  \n",
       "22            NaN     40.35     37.95     35.85  \n",
       "23            NaN     37.90     35.10     32.70  \n",
       "24            NaN     34.45     31.90     29.70  \n",
       "25            NaN     30.20     28.00     26.00  \n",
       "26            NaN     26.45     24.50     22.50  \n",
       "27            NaN     26.45     24.50     22.50  \n",
       "28            NaN     22.60     20.95     19.05  \n",
       "29            NaN     20.15     18.70     17.00  \n",
       "30            NaN     20.15     18.70     17.00  \n",
       "31            NaN     18.30     17.00     15.44  \n",
       "32            NaN     16.34     15.18     13.79  \n",
       "33            NaN     15.27     14.19     12.89  \n",
       "34            NaN  N$ 14.27  N$ 13.26  N$ 12.05  \n",
       "35            NaN  13330.00  12320.00  11115.00  \n",
       "36            NaN  13330.00  12320.00  11115.00  \n",
       "37            NaN  11900.00  11000.00   9920.00  \n",
       "38            NaN  11900.00  11000.00   9920.00  \n",
       "39            NaN  10080.00   9325.00   8405.00  \n",
       "40            NaN  10080.00   9325.00   8405.00  \n",
       "41            NaN   9160.00   8475.00   7640.00  \n",
       "42            NaN   8640.00   7995.00   7205.00  \n",
       "43            NaN   8000.00   7405.00   6670.00  "
      ]
     },
     "execution_count": 288,
     "metadata": {},
     "output_type": "execute_result"
    }
   ],
   "source": [
    "\n",
    "file='salarios_minimos.csv'\n",
    "if not os.path.isfile(file):\n",
    "    url='https://idconline.mx/laboral/salarios-minimos/salarios-minimos-1986-2007'\n",
    "    html=requests.get(url).content\n",
    "    df_list=pd.read_html(html,header=1)\n",
    "    df=df_list[-1]\n",
    "    df.to_csv('salarios_minimos.csv')\n",
    "else:\n",
    "    df=pd.read_csv(file)\n",
    "\n",
    "    \n",
    "df"
   ]
  },
  {
   "cell_type": "code",
   "execution_count": null,
   "metadata": {},
   "outputs": [],
   "source": []
  }
 ],
 "metadata": {
  "kernelspec": {
   "display_name": "Python 3",
   "language": "python",
   "name": "python3"
  },
  "language_info": {
   "codemirror_mode": {
    "name": "ipython",
    "version": 3
   },
   "file_extension": ".py",
   "mimetype": "text/x-python",
   "name": "python",
   "nbconvert_exporter": "python",
   "pygments_lexer": "ipython3",
   "version": "3.7.3"
  }
 },
 "nbformat": 4,
 "nbformat_minor": 2
}
